{
 "cells": [
  {
   "cell_type": "markdown",
   "metadata": {},
   "source": [
    "## Example Neural Network"
   ]
  },
  {
   "cell_type": "code",
   "execution_count": 11,
   "metadata": {
    "collapsed": true
   },
   "outputs": [],
   "source": [
    "from sklearn.datasets import load_breast_cancer\n",
    "cancer = load_breast_cancer()\n",
    "\n",
    "X_train = cancer.data[:340]\n",
    "y_train = cancer.target[:340]\n",
    "\n",
    "X_test = cancer.data[340:]\n",
    "y_test = cancer.target[340:]"
   ]
  },
  {
   "cell_type": "code",
   "execution_count": 12,
   "metadata": {
    "collapsed": true
   },
   "outputs": [],
   "source": [
    "import numpy as np\n",
    "from keras.models import Sequential\n",
    "from keras.layers import Dense, Dropout"
   ]
  },
  {
   "cell_type": "code",
   "execution_count": 23,
   "metadata": {},
   "outputs": [
    {
     "data": {
      "text/plain": [
       "(340, 30)"
      ]
     },
     "execution_count": 23,
     "metadata": {},
     "output_type": "execute_result"
    }
   ],
   "source": [
    "X_train.shape"
   ]
  },
  {
   "cell_type": "code",
   "execution_count": 24,
   "metadata": {
    "collapsed": true
   },
   "outputs": [],
   "source": [
    "model = Sequential()\n",
    "model.add(Dense(32, input_dim=30, activation='relu'))\n",
    "model.add(Dense(1, activation='sigmoid'))"
   ]
  },
  {
   "cell_type": "code",
   "execution_count": 25,
   "metadata": {
    "collapsed": true
   },
   "outputs": [],
   "source": [
    "model.compile(loss='binary_crossentropy', optimizer='rmsprop', metrics=['accuracy'])"
   ]
  },
  {
   "cell_type": "code",
   "execution_count": 46,
   "metadata": {},
   "outputs": [
    {
     "name": "stdout",
     "output_type": "stream",
     "text": [
      "Epoch 1/20\n",
      "340/340 [==============================] - 0s - loss: 0.3254 - acc: 0.8765     \n",
      "Epoch 2/20\n",
      "340/340 [==============================] - 0s - loss: 0.2569 - acc: 0.9029     \n",
      "Epoch 3/20\n",
      "340/340 [==============================] - 0s - loss: 0.2584 - acc: 0.9147     \n",
      "Epoch 4/20\n",
      "340/340 [==============================] - 0s - loss: 0.2973 - acc: 0.9029     \n",
      "Epoch 5/20\n",
      "340/340 [==============================] - 0s - loss: 0.2732 - acc: 0.9029     \n",
      "Epoch 6/20\n",
      "340/340 [==============================] - 0s - loss: 0.2211 - acc: 0.9324     \n",
      "Epoch 7/20\n",
      "340/340 [==============================] - 0s - loss: 0.2540 - acc: 0.9147     \n",
      "Epoch 8/20\n",
      "340/340 [==============================] - 0s - loss: 0.2500 - acc: 0.9088     \n",
      "Epoch 9/20\n",
      "340/340 [==============================] - 0s - loss: 0.2450 - acc: 0.9029     \n",
      "Epoch 10/20\n",
      "340/340 [==============================] - 0s - loss: 0.2252 - acc: 0.9176     \n",
      "Epoch 11/20\n",
      "340/340 [==============================] - 0s - loss: 0.2874 - acc: 0.9029     \n",
      "Epoch 12/20\n",
      "340/340 [==============================] - 0s - loss: 0.2358 - acc: 0.9059     \n",
      "Epoch 13/20\n",
      "340/340 [==============================] - 0s - loss: 0.2426 - acc: 0.9294     \n",
      "Epoch 14/20\n",
      "340/340 [==============================] - ETA: 0s - loss: 0.2186 - acc: 0.906 - 0s - loss: 0.2997 - acc: 0.8735     \n",
      "Epoch 15/20\n",
      "340/340 [==============================] - 0s - loss: 0.2159 - acc: 0.9265     \n",
      "Epoch 16/20\n",
      "340/340 [==============================] - 0s - loss: 0.2388 - acc: 0.9118     \n",
      "Epoch 17/20\n",
      "340/340 [==============================] - 0s - loss: 0.2346 - acc: 0.9147     \n",
      "Epoch 18/20\n",
      "340/340 [==============================] - 0s - loss: 0.2238 - acc: 0.9235     \n",
      "Epoch 19/20\n",
      "340/340 [==============================] - 0s - loss: 0.2602 - acc: 0.9206     \n",
      "Epoch 20/20\n",
      "340/340 [==============================] - 0s - loss: 0.2163 - acc: 0.9294     \n"
     ]
    },
    {
     "data": {
      "text/plain": [
       "<keras.callbacks.History at 0x2be45efbcc0>"
      ]
     },
     "execution_count": 46,
     "metadata": {},
     "output_type": "execute_result"
    }
   ],
   "source": [
    "model.fit(X_train, y_train, epochs=20, batch_size=32)"
   ]
  },
  {
   "cell_type": "code",
   "execution_count": 27,
   "metadata": {},
   "outputs": [
    {
     "name": "stdout",
     "output_type": "stream",
     "text": [
      "\r",
      " 32/229 [===>..........................] - ETA: 0s"
     ]
    }
   ],
   "source": [
    "predictions = model.predict_classes(X_test)"
   ]
  },
  {
   "cell_type": "code",
   "execution_count": 28,
   "metadata": {},
   "outputs": [
    {
     "name": "stdout",
     "output_type": "stream",
     "text": [
      "Accuracy: 0.759825327511\n",
      "             precision    recall  f1-score   support\n",
      "\n",
      "          0       0.00      0.00      0.00        55\n",
      "          1       0.76      1.00      0.86       174\n",
      "\n",
      "avg / total       0.58      0.76      0.66       229\n",
      "\n"
     ]
    },
    {
     "name": "stderr",
     "output_type": "stream",
     "text": [
      "C:\\ProgramData\\Anaconda3\\lib\\site-packages\\sklearn\\metrics\\classification.py:1135: UndefinedMetricWarning: Precision and F-score are ill-defined and being set to 0.0 in labels with no predicted samples.\n",
      "  'precision', 'predicted', average, warn_for)\n"
     ]
    }
   ],
   "source": [
    "from sklearn import metrics\n",
    "print('Accuracy:', metrics.accuracy_score(y_true=y_test, y_pred=predictions))\n",
    "print(metrics.classification_report(y_true=y_test, y_pred=predictions))"
   ]
  },
  {
   "cell_type": "markdown",
   "metadata": {
    "collapsed": true
   },
   "source": [
    "## Deep Learning"
   ]
  },
  {
   "cell_type": "code",
   "execution_count": 44,
   "metadata": {},
   "outputs": [
    {
     "name": "stdout",
     "output_type": "stream",
     "text": [
      "Epoch 1/20\n",
      "340/340 [==============================] - 0s - loss: 8.6708 - acc: 0.4618     \n",
      "Epoch 2/20\n",
      "340/340 [==============================] - 0s - loss: 8.6643 - acc: 0.4618     \n",
      "Epoch 3/20\n",
      "340/340 [==============================] - 0s - loss: 7.9334 - acc: 0.4618     \n",
      "Epoch 4/20\n",
      "340/340 [==============================] - 0s - loss: 1.0211 - acc: 0.7176     \n",
      "Epoch 5/20\n",
      "340/340 [==============================] - 0s - loss: 0.3579 - acc: 0.8765     \n",
      "Epoch 6/20\n",
      "340/340 [==============================] - 0s - loss: 0.2568 - acc: 0.9206     \n",
      "Epoch 7/20\n",
      "340/340 [==============================] - 0s - loss: 0.3526 - acc: 0.8647     \n",
      "Epoch 8/20\n",
      "340/340 [==============================] - 0s - loss: 0.2390 - acc: 0.9265     \n",
      "Epoch 9/20\n",
      "340/340 [==============================] - 0s - loss: 0.2473 - acc: 0.9029     \n",
      "Epoch 10/20\n",
      "340/340 [==============================] - 0s - loss: 0.3041 - acc: 0.8765     \n",
      "Epoch 11/20\n",
      "340/340 [==============================] - 0s - loss: 0.2607 - acc: 0.9206     \n",
      "Epoch 12/20\n",
      "340/340 [==============================] - 0s - loss: 0.2955 - acc: 0.8765     \n",
      "Epoch 13/20\n",
      "340/340 [==============================] - 0s - loss: 0.2643 - acc: 0.9059     \n",
      "Epoch 14/20\n",
      "340/340 [==============================] - 0s - loss: 0.3159 - acc: 0.8765     \n",
      "Epoch 15/20\n",
      "340/340 [==============================] - 0s - loss: 0.2722 - acc: 0.9029     \n",
      "Epoch 16/20\n",
      "340/340 [==============================] - 0s - loss: 0.2346 - acc: 0.9265     \n",
      "Epoch 17/20\n",
      "340/340 [==============================] - 0s - loss: 0.2465 - acc: 0.9147     \n",
      "Epoch 18/20\n",
      "340/340 [==============================] - 0s - loss: 0.3323 - acc: 0.8971     \n",
      "Epoch 19/20\n",
      "340/340 [==============================] - 0s - loss: 0.3403 - acc: 0.8735     \n",
      "Epoch 20/20\n",
      "340/340 [==============================] - 0s - loss: 0.2246 - acc: 0.9235     \n"
     ]
    },
    {
     "data": {
      "text/plain": [
       "<keras.callbacks.History at 0x2be498c6a20>"
      ]
     },
     "execution_count": 44,
     "metadata": {},
     "output_type": "execute_result"
    }
   ],
   "source": [
    "model = Sequential()\n",
    "model.add(Dense(15, input_dim=30, activation='relu'))\n",
    "model.add(Dense(15, activation='relu'))\n",
    "model.add(Dense(15, activation='relu'))\n",
    "model.add(Dense(1, activation='sigmoid'))\n",
    "\n",
    "model.compile(loss='binary_crossentropy',optimizer='rmsprop',metrics=['accuracy'])\n",
    "model.fit(X_train, y_train,epochs=20,batch_size=50)"
   ]
  },
  {
   "cell_type": "code",
   "execution_count": 45,
   "metadata": {},
   "outputs": [
    {
     "name": "stdout",
     "output_type": "stream",
     "text": [
      " 32/229 [===>..........................] - ETA: 0sAccuracy: 0.855895196507\n",
      "             precision    recall  f1-score   support\n",
      "\n",
      "          0       0.65      0.85      0.74        55\n",
      "          1       0.95      0.86      0.90       174\n",
      "\n",
      "avg / total       0.88      0.86      0.86       229\n",
      "\n"
     ]
    }
   ],
   "source": [
    "predictions = model.predict_classes(X_test)\n",
    "print('Accuracy:', metrics.accuracy_score(y_true=y_test, y_pred=predictions))\n",
    "print(metrics.classification_report(y_true=y_test, y_pred=predictions))\n"
   ]
  },
  {
   "cell_type": "code",
   "execution_count": null,
   "metadata": {
    "collapsed": true
   },
   "outputs": [],
   "source": []
  }
 ],
 "metadata": {
  "kernelspec": {
   "display_name": "Python 3",
   "language": "python",
   "name": "python3"
  },
  "language_info": {
   "codemirror_mode": {
    "name": "ipython",
    "version": 3
   },
   "file_extension": ".py",
   "mimetype": "text/x-python",
   "name": "python",
   "nbconvert_exporter": "python",
   "pygments_lexer": "ipython3",
   "version": "3.6.3"
  }
 },
 "nbformat": 4,
 "nbformat_minor": 2
}
