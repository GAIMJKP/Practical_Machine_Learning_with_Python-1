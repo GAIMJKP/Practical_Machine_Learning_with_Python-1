{
 "cells": [
  {
   "cell_type": "code",
   "execution_count": 1,
   "metadata": {
    "collapsed": true
   },
   "outputs": [],
   "source": [
    "import pandas as pd"
   ]
  },
  {
   "cell_type": "markdown",
   "metadata": {},
   "source": [
    "## Loading CSV files"
   ]
  },
  {
   "cell_type": "code",
   "execution_count": null,
   "metadata": {
    "collapsed": true
   },
   "outputs": [],
   "source": [
    "data_frame = pd.read_csv('file.csv', sep=';')\n",
    "pd.read_csv('file.csv', sep=';', skipinitialspace=True)\n",
    "pd.read_csv('file.csv', sep='\\s*;\\s*', skipinitialspace=True, engine='python')"
   ]
  },
  {
   "cell_type": "markdown",
   "metadata": {},
   "source": [
    "## Hardcored Datagrames"
   ]
  },
  {
   "cell_type": "code",
   "execution_count": null,
   "metadata": {
    "collapsed": true
   },
   "outputs": [],
   "source": [
    "import numpy as np\n",
    "\n",
    "df = pandas.DataFrame({\n",
    "   'col1': ['Item0', 'Item0', 'Item1', 'Item1'],\n",
    "   'col2': ['Gold', 'Bronze', 'Gold', 'Silver'],\n",
    "   'col3': [1, 2, np.nan, 4]\n",
    "})"
   ]
  },
  {
   "cell_type": "markdown",
   "metadata": {},
   "source": [
    "## Previewing Data"
   ]
  },
  {
   "cell_type": "code",
   "execution_count": 2,
   "metadata": {},
   "outputs": [
    {
     "ename": "NameError",
     "evalue": "name 'df' is not defined",
     "output_type": "error",
     "traceback": [
      "\u001b[1;31m---------------------------------------------------------------------------\u001b[0m",
      "\u001b[1;31mNameError\u001b[0m                                 Traceback (most recent call last)",
      "\u001b[1;32m<ipython-input-2-cf0a7dec7153>\u001b[0m in \u001b[0;36m<module>\u001b[1;34m()\u001b[0m\n\u001b[0;32m      1\u001b[0m \u001b[1;31m# Displays the top 5 rows. Accepts an optional int parameter - num. of rows to show\u001b[0m\u001b[1;33m\u001b[0m\u001b[1;33m\u001b[0m\u001b[0m\n\u001b[1;32m----> 2\u001b[1;33m \u001b[0mdf\u001b[0m\u001b[1;33m.\u001b[0m\u001b[0mhead\u001b[0m\u001b[1;33m(\u001b[0m\u001b[1;33m)\u001b[0m\u001b[1;33m\u001b[0m\u001b[0m\n\u001b[0m\u001b[0;32m      3\u001b[0m \u001b[1;33m\u001b[0m\u001b[0m\n\u001b[0;32m      4\u001b[0m \u001b[1;31m# Similar to head, but displays the last rows\u001b[0m\u001b[1;33m\u001b[0m\u001b[1;33m\u001b[0m\u001b[0m\n\u001b[0;32m      5\u001b[0m \u001b[0mdf\u001b[0m\u001b[1;33m.\u001b[0m\u001b[0mtail\u001b[0m\u001b[1;33m(\u001b[0m\u001b[1;33m)\u001b[0m\u001b[1;33m\u001b[0m\u001b[0m\n",
      "\u001b[1;31mNameError\u001b[0m: name 'df' is not defined"
     ]
    }
   ],
   "source": [
    "# Displays the top 5 rows. Accepts an optional int parameter - num. of rows to show\n",
    "df.head()\n",
    "\n",
    "# Similar to head, but displays the last rows\n",
    "df.tail()\n",
    "\n",
    "# The dimensions of the dataframe as a (rows, cols) tuple\n",
    "df.shape\n",
    "\n",
    "# The number of columns. Equal to df.shape[0]\n",
    "len(df) \n",
    "\n",
    "# An array of the column names\n",
    "df.columns \n",
    "\n",
    "# Columns and their types\n",
    "df.dtypes\n",
    "\n",
    "# Converts the frame to a two-dimensional table\n",
    "df.values \n",
    "\n",
    "# Displays descriptive stats for all columns\n",
    "df.describe()"
   ]
  },
  {
   "cell_type": "markdown",
   "metadata": {},
   "source": [
    "## Sorting"
   ]
  },
  {
   "cell_type": "code",
   "execution_count": null,
   "metadata": {
    "collapsed": true
   },
   "outputs": [],
   "source": [
    "# Sort rows descendingly by the index\n",
    "df.sort_index(axis=0, ascending=False)\n",
    "df.sort_values(by=['col2', 'col1'], ascending=False)"
   ]
  },
  {
   "cell_type": "markdown",
   "metadata": {},
   "source": [
    "## Selecting / Querying"
   ]
  },
  {
   "cell_type": "code",
   "execution_count": null,
   "metadata": {
    "collapsed": true
   },
   "outputs": [],
   "source": [
    "# Selects only the column named 'col1';\n",
    "df.col1 \n",
    "\n",
    "# Same as previous\n",
    "df['col1'] \n",
    "\n",
    "# Select two columns\n",
    "df[['col1', 'col2']]"
   ]
  },
  {
   "cell_type": "code",
   "execution_count": null,
   "metadata": {
    "collapsed": true
   },
   "outputs": [],
   "source": [
    "# Selects second row\n",
    "df.iloc[1]\n",
    "# Selects rows 1-to-3\n",
    "df.iloc[1:3]\n",
    "# First row, first column\n",
    "df.iloc[0,0]\n",
    "# First 4 rows and first 2 columns\n",
    "df.iloc[0:4, 0:2]"
   ]
  },
  {
   "cell_type": "code",
   "execution_count": null,
   "metadata": {
    "collapsed": true
   },
   "outputs": [],
   "source": [
    "# Produces and array, not a single value!\n",
    "df.col3 > 0\n",
    "# Query by a single column value\n",
    "df[df.col3 > 0] \n",
    "\n",
    "# Query by a single column, if it is in a list of predefined values\n",
    "df[df['col2'].isin(['Gold', 'Silver'])] \n",
    "\n",
    "# A conjunction query using two columns\n",
    "df[(df['col3'] > 0) & (df['col2'] == 'Silver')] \n",
    "\n",
    "# A disjunction query using two columns\n",
    "df[(df['col3'] > 0) | (df['col2'] == 'Silver')]\n",
    "\n",
    "# A query checking the textual content of the cells\n",
    "df[df.col2.str.contains('ilver')]"
   ]
  },
  {
   "cell_type": "markdown",
   "metadata": {},
   "source": [
    "## Modifying Data Frames"
   ]
  },
  {
   "cell_type": "code",
   "execution_count": null,
   "metadata": {
    "collapsed": true
   },
   "outputs": [],
   "source": [
    "# Modifies the cell identified by its row index and column name\n",
    "df.at[1, 'col2'] = 'Bronze and Gold' \n",
    "\n",
    "# Modifies the cell identified by its absolute row and column indices\n",
    "df.iat[1,1] = 'Bronze again' \n",
    "\n",
    "# Replaces the column with the array. It could be a numpy array or a simple list.\n",
    "#Could also be used to create new columns\n",
    "df.loc[:,'col3'] = ['Unknown'] * len(df) \n",
    "\n",
    "# Equivalent to the previous\n",
    "df.col3 = ['Unknown'] * len(df) \n",
    "\n",
    "# Removes all rows with any missing values.\n",
    "df.dropna(how='any') \n",
    "\n",
    "# Removes all rows with all missing values.\n",
    "df.dropna(how='all')"
   ]
  },
  {
   "cell_type": "code",
   "execution_count": null,
   "metadata": {
    "collapsed": true
   },
   "outputs": [],
   "source": [
    "def f(x):\n",
    "    return x + ' New Column';\n",
    "\n",
    "# Uses the unary function f to create a new column based on an existing one\n",
    "df.col4 = f(df.col3) \n",
    "\n",
    "def g(x, y):\n",
    "    return x + '_' + y\n",
    "\n",
    "# Uses the 2-arg function g to create a new column based on 2 existing columns\n",
    "df.col4 = g(df.col3, df.col2)"
   ]
  },
  {
   "cell_type": "markdown",
   "metadata": {},
   "source": [
    "## Dates and time"
   ]
  },
  {
   "cell_type": "code",
   "execution_count": null,
   "metadata": {
    "collapsed": true
   },
   "outputs": [],
   "source": [
    "dates_df = pandas.read_csv('test.csv', sep=';', parse_dates=['col1', 'col2'])"
   ]
  },
  {
   "cell_type": "code",
   "execution_count": null,
   "metadata": {
    "collapsed": true
   },
   "outputs": [],
   "source": [
    "def custom_parser(s):\n",
    "    # Specify the non-standard format you need\n",
    "    return pandas.datetime.strptime(s, '%d%b%Y')\n",
    "\n",
    "dates_df = pandas.read_csv('test.csv', sep=';', parse_dates=['col1'], date_parser=custom_parser)"
   ]
  },
  {
   "cell_type": "code",
   "execution_count": null,
   "metadata": {
    "collapsed": true
   },
   "outputs": [],
   "source": [
    "dates_df['col2'] = pandas.to_datetime(dates_df['col2'], format='%d.%m.%Y')"
   ]
  },
  {
   "cell_type": "code",
   "execution_count": null,
   "metadata": {
    "collapsed": true
   },
   "outputs": [],
   "source": [
    "# Unit specifies if the time is in seconds('s'), millis ('ms'), nanos('ns') etc.\n",
    "dates_df['col'] = pandas.to_datetime(dates_df['col'], unit='ms')"
   ]
  },
  {
   "cell_type": "code",
   "execution_count": null,
   "metadata": {
    "collapsed": true
   },
   "outputs": [],
   "source": [
    "def timestamp_parser(n):\n",
    "    # Specify the unit you need\n",
    "    return pandas.to_datetime(float(n), unit='ms')\n",
    "\n",
    "dates_df = pandas.read_csv('test.csv', sep=';', parse_dates=['col1'], date_parser=timestamp_parser)"
   ]
  },
  {
   "cell_type": "code",
   "execution_count": null,
   "metadata": {
    "collapsed": true
   },
   "outputs": [],
   "source": [
    "# Creates a new numeric column with the timestamp epoch in nanos\n",
    "dates_df.col4 = pandas.to_numeric(dates_df.col3)"
   ]
  },
  {
   "cell_type": "markdown",
   "metadata": {},
   "source": [
    "## Plotting"
   ]
  },
  {
   "cell_type": "code",
   "execution_count": null,
   "metadata": {
    "collapsed": true
   },
   "outputs": [],
   "source": [
    "import matplotlib\n",
    "import matplotlib.pyplot as plt"
   ]
  },
  {
   "cell_type": "code",
   "execution_count": null,
   "metadata": {
    "collapsed": true
   },
   "outputs": [],
   "source": [
    "# Will allow us to embed images in the notebook\n",
    "%matplotlib inline"
   ]
  },
  {
   "cell_type": "code",
   "execution_count": null,
   "metadata": {
    "collapsed": true
   },
   "outputs": [],
   "source": [
    "plot_df = pandas.DataFrame({\n",
    "    'col1': [1, 3, 2, 4],\n",
    "    'col2': [3, 6, 5, 1],\n",
    "    'col3': [4, 7, 6, 2],\n",
    "})\n",
    "\n",
    "plot_df.plot()"
   ]
  },
  {
   "cell_type": "code",
   "execution_count": null,
   "metadata": {
    "collapsed": true
   },
   "outputs": [],
   "source": [
    "plot_df.plot(x='col1')"
   ]
  },
  {
   "cell_type": "code",
   "execution_count": null,
   "metadata": {
    "collapsed": true
   },
   "outputs": [],
   "source": [
    "# Use kind='hbar' for horizontal bars, and stacked=True to stack the groups\n",
    "plot_df.plot(kind='bar')"
   ]
  },
  {
   "cell_type": "code",
   "execution_count": null,
   "metadata": {
    "collapsed": true
   },
   "outputs": [],
   "source": [
    "plot_df.plot(kind='box')"
   ]
  },
  {
   "cell_type": "code",
   "execution_count": null,
   "metadata": {
    "collapsed": true
   },
   "outputs": [],
   "source": []
  }
 ],
 "metadata": {
  "kernelspec": {
   "display_name": "Python 3",
   "language": "python",
   "name": "python3"
  },
  "language_info": {
   "codemirror_mode": {
    "name": "ipython",
    "version": 3
   },
   "file_extension": ".py",
   "mimetype": "text/x-python",
   "name": "python",
   "nbconvert_exporter": "python",
   "pygments_lexer": "ipython3",
   "version": "3.6.3"
  }
 },
 "nbformat": 4,
 "nbformat_minor": 2
}
